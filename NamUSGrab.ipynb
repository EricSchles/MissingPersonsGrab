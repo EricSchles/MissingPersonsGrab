{
 "metadata": {
  "name": ""
 },
 "nbformat": 3,
 "nbformat_minor": 0,
 "worksheets": [
  {
   "cells": [
    {
     "cell_type": "code",
     "collapsed": false,
     "input": [
      "import requests\n",
      "import lxml.html\n",
      "\n",
      "def NamusGrab2(url):\n",
      "    import requests\n",
      "    import lxml.html\n",
      "    r = requests.get(url)\n",
      "    html = lxml.html.fromstring(r.text)\n",
      "    processed = html.xpath('//img')\n",
      "    images = []\n",
      "    for elem in processed:\n",
      "        if not \"National\" in elem.values()[0]:\n",
      "            if not \"Star\" in elem.values()[0]:\n",
      "                if not \"Grey_star\" in elem.values()[0]:\n",
      "                    if not \"Nij_logo\" in elem.values()[0]:\n",
      "                        if not \"Ojp_seal\" in elem.values()[0]:\n",
      "                            if not \"1229961902\" in elem.values()[0]:\n",
      "                                if not \"Right\" in elem.values()[0]:\n",
      "                                    if not \"Left\" in elem.values()[0]:\n",
      "                                        images.append(elem.values())\n",
      "    del images[0:4]\n",
      "    return images\n",
      "   \n",
      "        \n",
      "        \n",
      "def iterGrabNamus():\n",
      "    base_url_namus = 'https://www.findthemissing.org/en/cases/'\n",
      "    namus_urls = []\n",
      "    for i in xrange(25,32):\n",
      "        iter_url_namus =  base_url_namus.replace(\"cases/\",\"cases/\"+ str(i))\n",
      "        r = requests.get(iter_url_namus)\n",
      "        html = lxml.html.fromstring(r.text)\n",
      "        if r.status_code == 200:\n",
      "            namus_urls.append(iter_url_namus)\n",
      "    case_data = []\n",
      "    for case in namus_urls:\n",
      "        r = requests.get(case)\n",
      "        case_images = NamusGrab2(case)\n",
      "        case_file_urls = []\n",
      "        for rel_url in case_images:\n",
      "            case_file_urls.append(\"http://findthemissing.org\"+rel_url[0])\n",
      "        case_file_urls.insert(0,case)\n",
      "        case_data.append(case_file_urls)\n",
      "        print case_data\n",
      "    lengths = [len(x) for x in case_data]\n",
      "    print lengths\n",
      "    for j in xrange(lengths):\n",
      "        print int(lengths[j])\n",
      "    return case_data\n",
      "    \n"
     ],
     "language": "python",
     "metadata": {},
     "outputs": []
    }
   ],
   "metadata": {}
  }
 ]
}