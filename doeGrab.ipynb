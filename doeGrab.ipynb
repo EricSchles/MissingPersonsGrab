{
 "metadata": {
  "name": ""
 },
 "nbformat": 3,
 "nbformat_minor": 0,
 "worksheets": [
  {
   "cells": [
    {
     "cell_type": "code",
     "collapsed": false,
     "input": [
      "import requests\n",
      "import lxml.html\n",
      "def doeGrab(url):\n",
      "    r = requests.get(url)\n",
      "    html = lxml.html.fromstring(r.text)\n",
      "    processed = html.xpath('//a')\n",
      "    images = []\n",
      "    for elem in processed:\n",
      "        if not \"disappear\" in elem.values()[0]:\n",
      "            if not \"http\" in elem.values()[0]:\n",
      "                images.append(elem.values())\n",
      "    case_file_urls = []\n",
      "    for rel_url in images:\n",
      "        case_file_urls.append(\"http://doenetwork.org/cases/\"+rel_url[0])\n",
      "    case_data = []\n",
      "    for case in case_file_urls:\n",
      "        r = requests.get(case)\n",
      "        html = lxml.html.fromstring(r.text)\n",
      "        case_html = html.xpath('//img')\n",
      "        case_images = [elem.values() for elem in case_html]\n",
      "        case_images.insert(0,case)\n",
      "        case_data.append(case_images)\n",
      "    return case_data\n",
      "\n",
      "\n",
      "# doeGrab('http://doenetwork.org/cases/disappear.html')\n",
      "\n",
      "\n",
      "def iterGrab():\n",
      "    base_url = 'http://doenetwork.org/cases/disappear.html'\n",
      "    r = requests.get(base_url)\n",
      "    i = 2\n",
      "    all_cases = []\n",
      "    print r.status_code, \"status code\"\n",
      "    while r.status_code == 200:\n",
      "        iter_url = base_url.replace(\"disappear\",\"disappear\" + str(i))\n",
      "        print iter_url, \"iter url\"\n",
      "        r = requests.get(iter_url)\n",
      "        print r.status_code, \"status code inside while loop\"\n",
      "        stuff = doeGrab(iter_url)\n",
      "        print stuff,\" result of doeGrab()\" \n",
      "        all_cases.append(stuff)\n",
      "        print all_cases, \" print total cases thus far\"\n",
      "        i += 1\n",
      "        print i, \" where we are in the iteration\"\n",
      "    return all_cases\n"
     ],
     "language": "python",
     "metadata": {},
     "outputs": []
    }
   ],
   "metadata": {}
  }
 ]
}